{
 "cells": [
  {
   "cell_type": "code",
   "execution_count": 27,
   "metadata": {},
   "outputs": [
    {
     "name": "stdout",
     "output_type": "stream",
     "text": [
      "dict_keys(['model_b', 'model_l', 'optimizer'])\n",
      "in for loop\n",
      "end loop\n",
      "done\n"
     ]
    }
   ],
   "source": [
    "import os\n",
    "import pickle\n",
    "import torch\n",
    "import numpy as np\n",
    "from math import ceil\n",
    "from model_vc import Generator\n",
    "from model_bl import D_VECTOR\n",
    "\n",
    "\n",
    "def pad_seq(x, base=32):\n",
    "    len_out = int(base * ceil(float(x.shape[0])/base))\n",
    "    len_pad = len_out - x.shape[0]\n",
    "    assert len_pad >= 0\n",
    "    return np.pad(x, ((0,len_pad),(0,0)), 'constant'), len_pad\n",
    "\n",
    "device = 'cuda:0'\n",
    "\n",
    "G = Generator(32,256,512,32).eval().to(device)\n",
    "g_checkpoint = torch.load('../gdrive/MyDrive/model_weights/G_99000.pth')\n",
    "# G.load_state_dict(g_checkpoint['model'])\n",
    "G.load_state_dict(g_checkpoint)\n",
    "\n",
    "\n",
    "print(g_checkpoint.keys())\n",
    "# metadata = pickle.load(open('metadata.pkl', \"rb\"))\n",
    "metadata = pickle.load(open('./spmel/train.pkl', \"rb\"))\n",
    "\n",
    "my_mel = np.load('../gdrive/MyDrive/VoiceStuff/SourceSpeaker.npy')\n",
    "\n",
    "spect_vc = []\n",
    "\n",
    "# x_org = my_mel\n",
    "x_org, len_pad = pad_seq(my_mel)\n",
    "# x_org, len_pad = pad_seq(x_org)\n",
    "uttr_org = torch.from_numpy(x_org[np.newaxis, :, :]).to(device)\n",
    "\n",
    "emb_trg = torch.from_numpy(metadata[0][1][np.newaxis, :]).to(device)\n",
    "\n",
    "spect_vc = []\n",
    "\n",
    "for sbmt_i in metadata:\n",
    "    if sbmt_i[0] == 'p226':\n",
    "        emb_org = torch.from_numpy(sbmt_i[1][np.newaxis, :]).to(device)\n",
    "        break\n",
    "\n",
    "with torch.no_grad():\n",
    "    _, x_identic_psnt, _ = C(uttr_org, emb_org, emb_trg)\n",
    "\n",
    "if len_pad == 0:\n",
    "    uttr_trg = x_identic_psnt[0, 0, :, :].cpu().numpy()\n",
    "else:\n",
    "    uttr_trg = x_identic_psnt[0, 0, :-len_pad, :].cpu().numpy()\n",
    "\n",
    "spect_vc.append(('p226x{}'.format(metadata[0][0]), uttr_trg))\n",
    "    \n",
    "              \n",
    "with open('../gdrive/MyDrive/results.pkl', 'wb') as handle:\n",
    "    pickle.dump(spect_vc, handle)        \n",
    "    \n",
    "print(\"done\")"
   ]
  },
  {
   "cell_type": "code",
   "execution_count": null,
   "metadata": {},
   "outputs": [],
   "source": []
  },
  {
   "cell_type": "code",
   "execution_count": null,
   "metadata": {},
   "outputs": [],
   "source": []
  }
 ],
 "metadata": {
  "kernelspec": {
   "display_name": "Python 3.9.7 64-bit",
   "language": "python",
   "name": "python3"
  },
  "language_info": {
   "codemirror_mode": {
    "name": "ipython",
    "version": 3
   },
   "file_extension": ".py",
   "mimetype": "text/x-python",
   "name": "python",
   "nbconvert_exporter": "python",
   "pygments_lexer": "ipython3",
   "version": "3.9.7"
  },
  "vscode": {
   "interpreter": {
    "hash": "aee8b7b246df8f9039afb4144a1f6fd8d2ca17a180786b69acc140d282b71a49"
   }
  }
 },
 "nbformat": 4,
 "nbformat_minor": 4
}
